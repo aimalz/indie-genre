{
 "cells": [
  {
   "cell_type": "markdown",
   "metadata": {},
   "source": [
    "### A demo for a 2-dimensional generative model\n",
    "_Alex Malz (NYU)_\n",
    "\n",
    "This is a demo for a highly specific 2-D generative model, with terminology specific to photo-$z$ posteriors.\n",
    "I will at some point extend this to N-D though"
   ]
  },
  {
   "cell_type": "code",
   "execution_count": null,
   "metadata": {},
   "outputs": [],
   "source": [
    "testdict = {'a':1, 'b':2}"
   ]
  },
  {
   "cell_type": "code",
   "execution_count": null,
   "metadata": {},
   "outputs": [],
   "source": [
    "if 'a' in testdict.keys():\n",
    "    print(testdict['a'])"
   ]
  },
  {
   "cell_type": "code",
   "execution_count": null,
   "metadata": {},
   "outputs": [],
   "source": [
    "import pzgen"
   ]
  },
  {
   "cell_type": "code",
   "execution_count": null,
   "metadata": {},
   "outputs": [],
   "source": [
    "from pzgen.pspace import PSpace"
   ]
  },
  {
   "cell_type": "code",
   "execution_count": null,
   "metadata": {},
   "outputs": [],
   "source": [
    "with open('demo.txt') as infile:\n",
    "    lines = (line.split(' ') for line in infile)\n",
    "    in_dict = {defn[0] : defn[1:][0].strip() for defn in lines}"
   ]
  },
  {
   "cell_type": "code",
   "execution_count": null,
   "metadata": {},
   "outputs": [],
   "source": [
    "should_be_bool = ['intrinsic_scatter', 'catastrophic_outliers', 'systematic_bias']"
   ]
  },
  {
   "cell_type": "code",
   "execution_count": null,
   "metadata": {},
   "outputs": [],
   "source": [
    "should_be_float = ['scatter_constant', 'outlier_fraction', 'bias_constant']"
   ]
  },
  {
   "cell_type": "code",
   "execution_count": null,
   "metadata": {},
   "outputs": [],
   "source": [
    "import numpy as np\n",
    "import csv\n",
    "import pandas as pd\n",
    "from scipy.stats import kde\n",
    "from sklearn.neighbors import KernelDensity\n",
    "import matplotlib as mpl\n",
    "mpl.use('PS')\n",
    "import matplotlib.pyplot as plt\n",
    "import matplotlib.cm as cm\n",
    "from mpl_toolkits.axes_grid1 import make_axes_locatable\n",
    "%matplotlib inline"
   ]
  },
  {
   "cell_type": "code",
   "execution_count": null,
   "metadata": {},
   "outputs": [],
   "source": [
    "title = 18\n",
    "label = 16\n",
    "mpl.rcParams['text.usetex'] = True\n",
    "mpl.rcParams['mathtext.rm'] = 'serif'\n",
    "mpl.rcParams['font.family'] = 'serif'\n",
    "mpl.rcParams['font.serif'] = 'DejaVu Serif'\n",
    "mpl.rcParams['axes.titlesize'] = title\n",
    "mpl.rcParams['axes.labelsize'] = label\n",
    "mpl.rcParams['figure.subplot.left'] = 0.2\n",
    "mpl.rcParams['figure.subplot.right'] = 0.9\n",
    "mpl.rcParams['figure.subplot.bottom'] = 0.2\n",
    "mpl.rcParams['figure.subplot.top'] = 0.9\n",
    "mpl.rcParams['figure.subplot.wspace'] = 0.5\n",
    "mpl.rcParams['figure.subplot.hspace'] = 0.5"
   ]
  },
  {
   "cell_type": "code",
   "execution_count": null,
   "metadata": {},
   "outputs": [],
   "source": [
    "points = pd.read_csv('jain05.csv', delimiter=',', names=['redshift', '\"data\"'])"
   ]
  },
  {
   "cell_type": "code",
   "execution_count": null,
   "metadata": {},
   "outputs": [],
   "source": [
    "# remove outliers\n",
    "to_use = points[np.logical_and(points['redshift'] > 0., points['\"data\"'] > 0)].values.T"
   ]
  },
  {
   "cell_type": "code",
   "execution_count": null,
   "metadata": {},
   "outputs": [],
   "source": [
    "f = plt.figure(figsize=(5, 5))\n",
    "plt.subplot(1, 1, 1)\n",
    "plt.scatter(points['redshift'], points['\"data\"'], marker='.', s=1, color='k')\n",
    "plt.plot([0, 4], [0, 4], color='r')\n",
    "plt.xlabel(r'redshift')\n",
    "plt.ylabel('\"data\"')\n",
    "f.savefig('jain05.png', bbox_inches='tight', pad_inches=0, dpi=250)"
   ]
  },
  {
   "cell_type": "code",
   "execution_count": null,
   "metadata": {},
   "outputs": [],
   "source": [
    "X, Y = np.linspace(0., 4., 100), np.linspace(0., 4., 100)\n",
    "X, Y = np.meshgrid(X, Y)\n",
    "xy = np.vstack([Y.ravel(), X.ravel()]).T\n",
    "kde = KernelDensity(kernel='gaussian', bandwidth=0.1).fit(to_use.T)"
   ]
  },
  {
   "cell_type": "code",
   "execution_count": null,
   "metadata": {},
   "outputs": [],
   "source": [
    "# slow!\n",
    "Z = np.exp(kde.score_samples(xy))"
   ]
  },
  {
   "cell_type": "code",
   "execution_count": null,
   "metadata": {},
   "outputs": [],
   "source": [
    "# 2d KDE\n",
    "f = plt.figure(figsize=(6, 5))\n",
    "plt.subplot(1, 1, 1)\n",
    "Z = Z.reshape(X.shape)\n",
    "plt.contourf(X, Y, Z, cmap=plt.cm.viridis)\n",
    "plt.colorbar()\n",
    "plt.xlabel(r'redshift')\n",
    "plt.ylabel('\"data\"')\n",
    "f.savefig('jain05.png', bbox_inches='tight', pad_inches=0, dpi=250)"
   ]
  },
  {
   "cell_type": "code",
   "execution_count": null,
   "metadata": {},
   "outputs": [],
   "source": [
    "for_posterior = points[np.logical_and(points['\"data\"'] > 2.9, points['\"data\"'] < 3.1)]['redshift'].values[:, np.newaxis]\n",
    "for_likelihood = points[np.logical_and(points['redshift'] > 1.9, points['redshift'] < 2.1)]['\"data\"'].values[:, np.newaxis]"
   ]
  },
  {
   "cell_type": "code",
   "execution_count": null,
   "metadata": {},
   "outputs": [],
   "source": [
    "plotgrid = np.linspace(0., 4., 100)"
   ]
  },
  {
   "cell_type": "code",
   "execution_count": null,
   "metadata": {},
   "outputs": [],
   "source": [
    "kde_p = KernelDensity(kernel='gaussian', bandwidth=0.05).fit(for_posterior)\n",
    "posterior = np.exp(kde_p.score_samples(plotgrid[:, np.newaxis]))\n",
    "kde_l = KernelDensity(kernel='gaussian', bandwidth=0.05).fit(for_likelihood)\n",
    "likelihood = np.exp(kde_l.score_samples(plotgrid[:, np.newaxis]))"
   ]
  },
  {
   "cell_type": "code",
   "execution_count": null,
   "metadata": {},
   "outputs": [],
   "source": [
    "# 2d KDE\n",
    "f, scatplot = plt.subplots(figsize=(8.5, 7.5))\n",
    "f.subplots_adjust(hspace=0)\n",
    "Z = Z.reshape(X.shape)\n",
    "scatplot.contourf(Y, X, Z, cmap=plt.cm.viridis_r, alpha=0.75)\n",
    "plt.plot([0, 4], [0, 4], color='r', alpha=0.25)\n",
    "plt.scatter(points['redshift'], points['\"data\"'], marker='.', s=1, color='k', alpha=0.25)\n",
    "# scatplot.colorbar()\n",
    "scatplot.vlines(3., 0., 4., linewidth=10., alpha=0.5, color=plt.cm.cool(1.))\n",
    "scatplot.hlines(2., 0., 4., linewidth=10., alpha=0.5, color=plt.cm.cool(0.))\n",
    "scatplot.set_xlabel(r'redshift')\n",
    "scatplot.set_ylabel('\"data\"')\n",
    "scatplot.set_xlim(0., 4.)\n",
    "scatplot.set_ylim(0., 4.)\n",
    "scatplot.set_yticks([0., 1., 2., 3., 4])\n",
    "scatplot.set_xticks([0., 1., 2., 3., 4])\n",
    "divider = make_axes_locatable(scatplot)\n",
    "histx = divider.append_axes('top', 1.2, pad=0., sharex=scatplot)\n",
    "histy = divider.append_axes('right', 1.2, pad=0., sharey=scatplot)\n",
    "histx.xaxis.set_tick_params(labelbottom=False)\n",
    "histy.yaxis.set_tick_params(labelleft=False)\n",
    "histx.plot(plotgrid, likelihood, color=plt.cm.cool(0.))\n",
    "histy.plot(posterior, plotgrid, color=plt.cm.cool(1.))\n",
    "histx.set_yticks([])\n",
    "histy.set_xticks([])\n",
    "histx.text(0.5, 1.25, 'posterior', rotation=0, size=16)\n",
    "histy.text(0.75, 2., 'likelihood', rotation=-90, size=16)\n",
    "f.savefig('jain05.png', bbox_inches='tight', pad_inches=0, dpi=250)"
   ]
  },
  {
   "cell_type": "code",
   "execution_count": null,
   "metadata": {},
   "outputs": [],
   "source": []
  },
  {
   "cell_type": "code",
   "execution_count": null,
   "metadata": {},
   "outputs": [],
   "source": []
  },
  {
   "cell_type": "code",
   "execution_count": null,
   "metadata": {},
   "outputs": [],
   "source": []
  }
 ],
 "metadata": {
  "kernelspec": {
   "display_name": "pzgen (Python 3)",
   "language": "python",
   "name": "pzgen_3"
  },
  "language_info": {
   "codemirror_mode": {
    "name": "ipython",
    "version": 3
   },
   "file_extension": ".py",
   "mimetype": "text/x-python",
   "name": "python",
   "nbconvert_exporter": "python",
   "pygments_lexer": "ipython3",
   "version": "3.6.5"
  }
 },
 "nbformat": 4,
 "nbformat_minor": 2
}
